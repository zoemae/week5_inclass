{
 "cells": [
  {
   "cell_type": "code",
   "execution_count": 7,
   "metadata": {
    "tags": []
   },
   "outputs": [],
   "source": [
    "%%capture\n",
    "### Run this cell to check your answers as you go along\n",
    "import sys\n",
    "!{sys.executable} -m pip install otter-grader\n",
    "# Initialize Otter \n",
    "import otter\n",
    "grader = otter.Notebook(\"group_activity4.ipynb\")"
   ]
  },
  {
   "cell_type": "markdown",
   "metadata": {
    "id": "b4bLCSuSxzvL",
    "jp-MarkdownHeadingCollapsed": true,
    "tags": []
   },
   "source": [
    "# In-class coding exercise #4\n",
    "Objective: In this exercise you will practice reading data from a text file using **Numpy** `genfromtext` and plotting it using best practices.\n",
    "\n",
    "## Introduction to group coding exercises\n",
    "Today you’ll work on this exercise in new groups of 3-4, submitting a single notebook file at the end of the class period. Decide amongst yourselves which member will upload the completed notebook to Gradescope this week. Make sure that everyone takes a turn being the “Uploader”. _You cannot upload the final code two weeks in a row._\n",
    "\n",
    "Designate a different group member to be the \"Reporter\". The Reporter will be in charge of participating in the group discussion at the end of the class session.\n",
    "\n",
    "### Workflow\n",
    "Each question will be timed to ensure that everyone gets to work on at least a part of every question. Group activities are not graded by completeness or correctness, but by effort. We will be breaking down each question in the following order:  \n",
    "1. Independent work \n",
    "2. Group work and discussion on coding question\n",
    "3. Group work and discussion on reflection questions\n",
    "\n",
    "You are welcome and encouraged to communicate with other groups and the teaching team when you feel stuck on a problem. \n",
    "\n",
    "As a reminder, we will be grading based best practices in coding. These include: \n",
    "1) Variables are used to store objects\n",
    "\n",
    "2) Code is commented adequately\n",
    "\n",
    "3) Variables are names appropriately\n",
    "\n",
    "4) Code is efficient with minimal unnecessary lines \n",
    "\n",
    "5) Documenting help from outside sources, such as from other groups or online documentation. \n",
    "\n",
    "6) Final notebook fully runs from start to finish. A good way to check this is restarting the kernel and fully running through all the cells to check for any errors.\n",
    "\n",
    "### Storing your answers\n",
    "In the code cells where you will write your answers, there will be comments denoting:\n",
    "\n",
    "\"**# your code**\"\n",
    "\n",
    "and \n",
    "\n",
    "\"**# answer variables**\"\n",
    "\n",
    "You may store any intermediary variables in the **your code** section. If you do not have any intermediary, you can also store your answer directly in the answer variables."
   ]
  },
  {
   "cell_type": "markdown",
   "metadata": {
    "id": "phOLyDmYBYSC"
   },
   "source": [
    "## Note here **and in the Gradescope submission** each of your group members:\n",
    "1. Zoe F\n",
    "2. \n",
    "3."
   ]
  },
  {
   "cell_type": "markdown",
   "metadata": {
    "deletable": false,
    "editable": false,
    "id": "LoBF4pdezMxM"
   },
   "source": [
    "# Question #1: Accessing data (35 minutes)\n",
    "\n",
    "Sea level rise is a major concern for many coastal cities, such as Seattle. NOAA tracks the monthly average sea level in several monitoring stations. The seasonal, or interannual changes, can also be removed to look at the large-scale trend. Today, we will download and plot the monthly mean sea levels in a Seattle monitoring station using NOAA data. \n",
    "\n",
    "![Trends from 1899 to 2022](https://tidesandcurrents.noaa.gov/sltrends/plots/9447130_meantrend.png)\n",
    "\n",
    "## Instructions\n",
    "1. Download data from the [NOAA tides and currents website](https://tidesandcurrents.noaa.gov/sltrends/sltrends_station.shtml?id=9447130) by clickin the blue **Export to TXT** button below the figure. Download the data to your local computer by typing `ctrl + s / command + s` depending on your machine. \n",
    "\n",
    "\n",
    "2. Upload the .txt file from your local computer to the same directory as this notebook in your JupyterHub. Rename it to \"noaa_seattle_sea_levels.txt\". Make sure you are not duplicating the \".txt\" extension at the end!\n",
    "\n",
    "\n",
    "3. In the cell below, store your file name as a string in the `filepath` variable, and use it with the `open()` function to create a file object in the `file_obj` variable.\n",
    "\n",
    "\n",
    "4. Find how many **header lines** are in your file using `readline( )` and a for loop. Store the number of lines you found in the `header_lines` variable. You may use either a for loop or a while loop. You will need to count how many lines are in the header from the print output, and you may \"hard code\" your answer in the `header_lines` variable for this part.\n",
    "\n",
    "_HINT: You can loop as many or as little times as you want, as long as you can find the correct number of header lines._ \n",
    "\n"
   ]
  },
  {
   "cell_type": "markdown",
   "metadata": {
    "deletable": false,
    "editable": false,
    "tags": []
   },
   "source": [
    "_Store your solutions in the cell below_"
   ]
  },
  {
   "cell_type": "code",
   "execution_count": 13,
   "metadata": {
    "tags": []
   },
   "outputs": [
    {
     "name": "stdout",
     "output_type": "stream",
     "text": [
      "Monthly mean sea levels with the average seasonal cycle removed.\n",
      "\n",
      "The values are in meters relative to the most recent Mean Sea Level datum established by CO-OPS.\n",
      "\n",
      "Column values are the Year, Month, Monthly Mean, Relative Sea Level Trend Line, Higher 95% Confidence Interval, and Lower 95% Confidence Interval.\n",
      "\n",
      "Product of NOAA’s National Ocean Service / Center for Operational Oceanographic Products and Services (CO-OPS)\n",
      "\n",
      "\n",
      "\n",
      "Year   Month    Monthly_MSL        Linear_Trend     High_Conf.      Low_Conf.\n",
      "\n",
      "1899   1        -0.209          -0.199           -0.189          -0.209          \n",
      "\n",
      "1899   2        -0.295          -0.198           -0.189          -0.208          \n",
      "\n",
      "1899   3        -0.242          -0.198           -0.188          -0.208          \n",
      "\n",
      "1899   4        -0.214          -0.198           -0.188          -0.208          \n",
      "\n",
      "1899   5        -0.224          -0.198           -0.188          -0.208          \n",
      "\n",
      "1899   6        -0.218          -0.198           -0.188          -0.208          \n",
      "\n",
      "1899   7        -0.207          -0.198           -0.188          -0.208          \n",
      "\n",
      "1899   8        -0.208          -0.197           -0.188          -0.207          \n",
      "\n",
      "1899   9        -0.225          -0.197           -0.187          -0.207          \n",
      "\n",
      "1899   10       -0.183          -0.197           -0.187          -0.207          \n",
      "\n",
      "1899   11       -0.000          -0.197           -0.187          -0.207          \n",
      "\n",
      "1899   12       -0.116          -0.197           -0.187          -0.207          \n",
      "\n",
      "1900   1        -0.123          -0.197           -0.187          -0.206          \n",
      "\n",
      "1900   2        -0.176          -0.196           -0.187          -0.206          \n",
      "\n",
      "1900   3        -0.099          -0.196           -0.186          -0.206          \n",
      "\n",
      "1900   4        -0.168          -0.196           -0.186          -0.206          \n",
      "\n",
      "1900   5        -0.084          -0.196           -0.186          -0.206          \n",
      "\n",
      "1900   6        -0.084          -0.196           -0.186          -0.205          \n",
      "\n",
      "1900   7        -0.164          -0.196           -0.186          -0.205          \n",
      "\n",
      "1900   8        -0.205          -0.195           -0.186          -0.205          \n",
      "\n",
      "1900   9        -0.225          -0.195           -0.185          -0.205          \n",
      "\n",
      "1900   10       -0.125          -0.195           -0.185          -0.205          \n",
      "\n",
      "1900   11       -0.168          -0.195           -0.185          -0.205          \n",
      "\n",
      "1900   12       -0.120          -0.195           -0.185          -0.204          \n",
      "\n"
     ]
    }
   ],
   "source": [
    "# your code\n",
    "sea_levels_file = \"noaa_seattle_sea_levels.txt\"\n",
    "sea_levels_file_obj = open(sea_levels_file)\n",
    "for i in range(30):\n",
    "    line = sea_levels_file_obj.readline()\n",
    "    print(line)\n",
    "\n",
    "sea_levels_file_obj.close()\n",
    "\n",
    "# answer variables\n",
    "filepath = sea_levels_file\n",
    "file_obj = sea_levels_file_obj\n",
    "header_lines = 6"
   ]
  },
  {
   "cell_type": "code",
   "execution_count": 14,
   "metadata": {
    "deletable": false,
    "editable": false,
    "tags": []
   },
   "outputs": [
    {
     "data": {
      "text/html": [
       "<p><strong><pre style='display: inline;'>Question 1</pre></strong> passed! 🍀</p>"
      ],
      "text/plain": [
       "Question 1 results: All test cases passed!"
      ]
     },
     "execution_count": 14,
     "metadata": {},
     "output_type": "execute_result"
    }
   ],
   "source": [
    "grader.check(\"Question 1\")"
   ]
  },
  {
   "cell_type": "markdown",
   "metadata": {
    "deletable": false,
    "editable": false,
    "id": "PElYP-rw-5j3"
   },
   "source": [
    "# Question #2: loading and plotting data (40 minutes)\n",
    "\n",
    "## Instructions\n",
    "1. Using `np.genfromtxt`, extract the monthly mean sea level column (\"monthly_msl\") from the file you just downloaded (column 2). Store the resulting array in the `'msl` variable and print it.\n",
    "2. Using the numpy `arange()` function, create an array with the _same length_ as the sea level data. Store the array in the `months` variable. This array will represent the number of months of data collection (starting from 0).\n",
    "3. Use matplotlib `subplots()` function to make a plot of the data. Customize the following such that they are different from the default settings (be creative!):\n",
    "> 1. Line color\n",
    "> 2. Line width\n",
    "> 3. Line style\n",
    "> 3. Marker shape\n",
    "> 4. Marker color\n",
    "\n",
    "4. **Make sure your plot has all of the required plot elements, including:**\n",
    "> 1. x and y axis labels with units\n",
    "> 2. a meaningful, descriptive title\n",
    "> 3. font size above 12\n",
    "\n",
    "5. Answer the following questions in a markdown cell below:\n",
    "> 1. What does this plot tell you about the sea level in Seattle? For example, does it look like it's increasing? Does this seem a lot to you?\n",
    "> 2. Why do you think some months have very high or very low sea levels compared to other months? Do you think this is normal?\n",
    "> 3. If you were to present this figure to a group of policymakers in your city, what are some key aspects of you would focus on? Why?\n",
    "\n",
    "If you are unsure of how a function works, try looking for it in the documentation first:\n",
    "- https://numpy.org/doc/stable/reference/index.html\n",
    "- https://matplotlib.org/3.3.2/index.html\n"
   ]
  },
  {
   "cell_type": "markdown",
   "metadata": {
    "deletable": false,
    "editable": false
   },
   "source": [
    "#### Type your answer in the cell below:"
   ]
  },
  {
   "cell_type": "code",
   "execution_count": 15,
   "metadata": {
    "tags": []
   },
   "outputs": [
    {
     "name": "stdout",
     "output_type": "stream",
     "text": [
      "[-0.209 -0.295 -0.242 ...  0.054  0.056  0.083]\n",
      "[   0    1    2 ... 1505 1506 1507]\n"
     ]
    },
    {
     "data": {
      "image/png": "[encoded data removed]",
      "text/plain": [
       "<Figure size 640x480 with 1 Axes>"
      ]
     },
     "metadata": {},
     "output_type": "display_data"
    }
   ],
   "source": [
    "# your code\n",
    "import numpy as np\n",
    "msl = np.genfromtxt(\"noaa_seattle_sea_levels.txt\", dtype=float,delimiter=None,skip_header=6,usecols=2)\n",
    "print(msl)\n",
    "\n",
    "months = np.arange(0,len(msl))\n",
    "print(months)\n",
    "\n",
    "# answer variables\n",
    "msl = msl\n",
    "months = months\n",
    "\n",
    "# print your answers below \n",
    "'''\n",
    "print(\"1. Sea level is increasing over time in seattle; it does seem like a lot. 2. I think there is a seasonal variation in sea level, due to regional sea level changes from ocean ciruclation and possibly also the tides.3. I would focus on how sea level is increasing overall, with the peaks getting higher and the lows getting less low.\")\n",
    "'''\n",
    "\n",
    "# create your plot \n",
    "import matplotlib.pyplot as plt\n",
    "fig,axs = plt.subplots()\n",
    "axs.plot(months, msl)\n",
    "axs.set_title('monthly mean sea levels')\n",
    "axs.set(xlabel = 'months',ylabel = 'meters')\n",
    "axs.tick_params(axis='both', labelsize=12)"
   ]
  },
  {
   "cell_type": "code",
   "execution_count": 16,
   "metadata": {
    "deletable": false,
    "editable": false,
    "tags": []
   },
   "outputs": [
    {
     "data": {
      "text/html": [
       "<p><strong><pre style='display: inline;'>Question 2</pre></strong> passed! 🚀</p>"
      ],
      "text/plain": [
       "Question 2 results: All test cases passed!"
      ]
     },
     "execution_count": 16,
     "metadata": {},
     "output_type": "execute_result"
    }
   ],
   "source": [
    "grader.check(\"Question 2\")"
   ]
  },
  {
   "cell_type": "markdown",
   "metadata": {
    "deletable": false,
    "editable": false
   },
   "source": [
    "<!-- BEGIN QUESTION -->\n",
    "\n",
    "# Reflection questions (5 minutes)\n",
    "The purpose of the reflection is to inform us as instructors about students comfort level with course content. We use these answers to inform how we spend class time and design coursework in subsequent weeks. This question is graded for completeness, so please answer each question in the text box below. Be concise in your answers (max. 2 sentences). \n",
    "\n",
    "1) What do you feel you excelled at in this exercise? Why?\n",
    "\n",
    "2) What did you struggle with most in the exercise? Why?\n",
    "\n",
    "3) Is there any section of the question that you did not complete? If so, briefly describe why and the section you spent the most time on. \n",
    "\n",
    "4) Is there any topic you feel we need to revisit or review in class? Why?"
   ]
  },
  {
   "cell_type": "markdown",
   "metadata": {},
   "source": [
    "1) I feel I excelled at reading the matplotlib documentation online to make my plot as well as accesseing class lecture slides and videos to remember the syntax I needed.\n",
    "2) I struggled a little with needing to use a lot of resources for this exercise because I was absent last week and so I don't feel super confident with the material, but today was a good review. \n",
    "3) No, I completed everything.\n",
    "4) I would love to better understand how to call files, and the difference between naming a file by calling its filename as a string, and opening that file and assinging it to a file object -- I just feel very confused about how to manipulate files, open them, read them, and work with them as variables. "
   ]
  },
  {
   "cell_type": "markdown",
   "metadata": {
    "deletable": false,
    "editable": false,
    "id": "hqhssdm5ADYy"
   },
   "source": [
    "<!-- END QUESTION -->\n",
    "\n",
    "<!-- BEGIN QUESTION -->\n",
    "\n",
    "# Optional\n",
    "Only work on these questions if you have enough time between finishing questions 1-2 and submitting the assignment! Give your team at least 10 minutes to push to GitHub and submit to Gradescope. \n",
    "\n",
    "## Instructions\n",
    "1. numpy `arange()` creates a nice array to represent a proxy for time. But, it is still hard to see the differences between months across years. Use numpy `genfromtxt()` to read in columns (0,1) as dtype string to get the year and month from `filepath`.\n",
    "\n",
    "2. Use a loop to convert each [year, month] array into a datetime object using strptime(). Don't forget to import datetime. Think about how you can convert your [year, month] arrays into 1 string to pass into strptime(). _HINT: Use the_ `join()` _function._ Store your converted datetimes in a new list or numpy array.\n",
    "\n",
    "3. Plot your new datetime array on your figure. Notice how matplotlib only plots every 20 years.\n",
    "> 1. Use this [StackOverflow](https://stackoverflow.com/questions/25538520/change-tick-frequency-on-x-time-not-number-frequency) page and check the first answer to help you import the matplotlib.dates class correctly. \n",
    "> 2. Change the x-tick frequency to every 5 years. Take note of the last 2 lines in the answer and how they used `ax.xaxis.set_major_locator()` and `ax.xaxis.set_major_formatter()`. Use `YearLocator()` instead of `MinuteLocator()` to update your frequency. The [documentation](https://matplotlib.org/stable/api/dates_api.html#matplotlib.dates.YearLocator) will help.\n",
    "> 3. Rotate your x-axis so the labels don't run over each other (look at example 3 on the [documentation](https://matplotlib.org/stable/gallery/ticks/ticks_too_many.html) for help). Try to get your x-axis to look as close as possible to the example below. You do not have to include the trend and legend if you do not get to Part 4.\n",
    "\n",
    "4. Read in the linear trend from `filepath` (column 3) and plot it on top of the mean monthly data in a figure. Try to get your plot to look as close to the example below, and don't forget to include a legend! What does the trend tell us about our data? Answer the question in a comment below your figure.\n",
    "\n",
    "![Final Plot](https://i.ibb.co/CsMpmSw/Screen-Shot-2024-10-23-at-3-57-39-PM.png)"
   ]
  },
  {
   "cell_type": "code",
   "execution_count": null,
   "metadata": {
    "tags": []
   },
   "outputs": [],
   "source": [
    "# your code\n",
    "\n",
    "# your plot\n"
   ]
  },
  {
   "cell_type": "markdown",
   "metadata": {
    "deletable": false,
    "editable": false
   },
   "source": [
    "<!-- END QUESTION -->\n",
    "\n"
   ]
  }
 ],
 "metadata": {
  "colab": {
   "provenance": []
  },
  "kernelspec": {
   "display_name": "Python 3 (ipykernel)",
   "language": "python",
   "name": "python3"
  },
  "language_info": {
   "codemirror_mode": {
    "name": "ipython",
    "version": 3
   },
   "file_extension": ".py",
   "mimetype": "text/x-python",
   "name": "python",
   "nbconvert_exporter": "python",
   "pygments_lexer": "ipython3",
   "version": "3.10.10"
  },
  "otter": {
   "OK_FORMAT": true,
   "tests": {
    "Question 1": {
     "name": "Question 1",
     "points": 0,
     "suites": [
      {
       "cases": [
        {
         "code": ">>> header_lines == 6\nTrue",
         "failure_message": "Check your header_lines!",
         "hidden": false,
         "locked": false,
         "points": 0
        },
        {
         "code": ">>> filepath=='noaa_seattle_sea_levels.txt'\nTrue",
         "failure_message": "Did you correctly rename your file in filepath?",
         "hidden": false,
         "locked": false,
         "points": 0
        }
       ],
       "scored": true,
       "setup": "",
       "teardown": "",
       "type": "doctest"
      }
     ]
    },
    "Question 2": {
     "name": "Question 2",
     "points": 0,
     "suites": [
      {
       "cases": [
        {
         "code": ">>> all(msl==np.genfromtxt(filepath, skip_header=6, usecols=2, dtype='float'))\nTrue",
         "failure_message": "Check your msl variable! Are you skipping the right amount of header lines?",
         "hidden": false,
         "locked": false,
         "points": 0
        },
        {
         "code": ">>> len(months)==len(msl)\nTrue",
         "failure_message": "Check that your months variable is the same length as msl!",
         "hidden": false,
         "locked": false,
         "points": 0
        }
       ],
       "scored": true,
       "setup": "",
       "teardown": "",
       "type": "doctest"
      }
     ]
    }
   }
  }
 },
 "nbformat": 4,
 "nbformat_minor": 4
}
